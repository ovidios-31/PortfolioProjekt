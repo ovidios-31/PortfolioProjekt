{
 "cells": [
  {
   "cell_type": "code",
   "execution_count": null,
   "metadata": {},
   "outputs": [],
   "source": [
    "import pandas as pd"
   ]
  },
  {
   "cell_type": "code",
   "execution_count": null,
   "metadata": {},
   "outputs": [],
   "source": [
    "df = pd.read_csv(\"adult.csv\")"
   ]
  },
  {
   "cell_type": "code",
   "execution_count": null,
   "metadata": {},
   "outputs": [],
   "source": [
    "print(\"\\nErste fünf Zeilen:\")\n",
    "df.head()"
   ]
  },
  {
   "cell_type": "code",
   "execution_count": null,
   "metadata": {},
   "outputs": [],
   "source": [
    "# Überblick über die Daten\n",
    "print(\"Anzahl der Zeilen und Spalten:\", df.shape)\n",
    "print(\"\\nFehlende Werte pro Spalte:\")\n",
    "print(df.isin([\"?\"]).sum())  # '?' als fehlenden Wert zählen"
   ]
  },
  {
   "cell_type": "code",
   "execution_count": null,
   "metadata": {},
   "outputs": [],
   "source": [
    "print(\"\\nDatentypen:\")\n",
    "print(df.dtypes)"
   ]
  },
  {
   "cell_type": "code",
   "execution_count": null,
   "metadata": {},
   "outputs": [],
   "source": [
    "# Grundlegende Statistik für numerische Spalten\n",
    "print(\"\\nStatistische Kennzahlen:\")\n",
    "df.describe()\n"
   ]
  },
  {
   "cell_type": "code",
   "execution_count": null,
   "metadata": {},
   "outputs": [],
   "source": [
    "# Einzigartige Werte pro kategorialer Spalte\n",
    "print(\"\\nEinzigartige Werte pro kategorialer Spalte:\")\n",
    "for col in categorical_cols:\n",
    "    print(f\"\\n{col}: {df[col].unique()}\")"
   ]
  },
  {
   "cell_type": "code",
   "execution_count": null,
   "metadata": {},
   "outputs": [],
   "source": [
    "# Grundlegende Übersicht über kategoriale Variablen\n",
    "print(\"\\nWertverteilung der kategorialen Variablen:\")\n",
    "categorical_cols = df.select_dtypes(include=[\"object\"]).columns\n",
    "for col in categorical_cols:\n",
    "    print(f\"{col} Verteilung:\")\n",
    "    print(df[col].value_counts(), \"\\n\")"
   ]
  },
  {
   "cell_type": "code",
   "execution_count": null,
   "metadata": {},
   "outputs": [],
   "source": [
    "protected_attrs = [\"sex\", \"race\", \"age\", \"marital.status\", \"education\", \"workclass\", \"native.country\"]  # Sensitive Variablen\n",
    "target_attr = \"income\"  # Zielvariable\n",
    "\n",
    "def demographic_analysis(df, protected_attrs, target_attr):\n",
    "    \"\"\"\n",
    "     Analyzes the distribution of demographic characteristics and their correlation \n",
    "        with the target variable in the DataFrame.\n",
    "     Args:\n",
    "        df: DataFrame with the data\n",
    "        protected_attrs: List of demographic characteristics to be analyzed\n",
    "        target_attr: Name of the target variable\n",
    "    \"\"\"\n",
    "    for attr in protected_attrs:\n",
    "        print(f\"\\nDemografische Analyse für '{attr}':\")\n",
    "        print(df[attr].value_counts(normalize=True) * 100)\n",
    "        \n",
    "        print(f\"\\nVerteilung von '{target_attr}' innerhalb '{attr}':\")\n",
    "        print(df.groupby(attr)[target_attr].value_counts(normalize=True) * 100)\n",
    "\n",
    "demographic_analysis(df, protected_attrs, target_attr)"
   ]
  },
  {
   "cell_type": "code",
   "execution_count": null,
   "metadata": {},
   "outputs": [],
   "source": []
  }
 ],
 "metadata": {
  "kernelspec": {
   "display_name": ".venv",
   "language": "python",
   "name": "python3"
  },
  "language_info": {
   "codemirror_mode": {
    "name": "ipython",
    "version": 3
   },
   "file_extension": ".py",
   "mimetype": "text/x-python",
   "name": "python",
   "nbconvert_exporter": "python",
   "pygments_lexer": "ipython3",
   "version": "3.12.9"
  }
 },
 "nbformat": 4,
 "nbformat_minor": 2
}
